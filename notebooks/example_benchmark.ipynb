{
 "cells": [
  {
   "cell_type": "code",
   "execution_count": null,
   "metadata": {},
   "outputs": [],
   "source": [
    "import numpy as np\n",
    "import pandas as pd\n",
    "import matplotlib.pyplot as plt"
   ]
  },
  {
   "cell_type": "markdown",
   "metadata": {},
   "source": [
    "## Some data"
   ]
  },
  {
   "cell_type": "code",
   "execution_count": null,
   "metadata": {},
   "outputs": [],
   "source": [
    "observations = 100_000\n",
    "\n",
    "x, y = np.random.rand(observations), np.random.rand(observations)\n",
    "ids = np.repeat(np.arange(observations//10), 10)\n",
    "df = pd.DataFrame({'x': x, 'y':y, 'id':ids})"
   ]
  },
  {
   "cell_type": "markdown",
   "metadata": {},
   "source": [
    "Check if polygon (red) contains these points"
   ]
  },
  {
   "cell_type": "code",
   "execution_count": null,
   "metadata": {},
   "outputs": [],
   "source": [
    "from matplotlib.patches import Polygon\n",
    "\n",
    "ax = plt.gca()\n",
    "df.sample(1000).plot.scatter(x='x', y='y', ax=ax)\n",
    "\n",
    "polygon_coords = np.array([[0.0, 0.0], [0.0, 0.5], [0.5, 0.5], [0.5, 0.0]])\n",
    "\n",
    "p = Polygon(polygon_coords, closed=False, fc='red', alpha=.5, ec='red')\n",
    "ax.add_patch(p)"
   ]
  },
  {
   "cell_type": "code",
   "execution_count": null,
   "metadata": {},
   "outputs": [],
   "source": [
    "%load_ext memory_profiler"
   ]
  },
  {
   "cell_type": "markdown",
   "metadata": {},
   "source": [
    "## GeoPandas"
   ]
  },
  {
   "cell_type": "code",
   "execution_count": null,
   "metadata": {},
   "outputs": [],
   "source": [
    "import geopandas\n",
    "from shapely.geometry import Polygon"
   ]
  },
  {
   "cell_type": "code",
   "execution_count": null,
   "metadata": {},
   "outputs": [],
   "source": [
    "%%timeit\n",
    "\n",
    "gdf = geopandas.GeoDataFrame(df, geometry=geopandas.points_from_xy(df.x, df.y))\n",
    "zone = Polygon(polygon_coords)\n",
    "gdf.within(zone)"
   ]
  },
  {
   "cell_type": "code",
   "execution_count": null,
   "metadata": {},
   "outputs": [],
   "source": [
    "%%memit\n",
    "\n",
    "gdf = geopandas.GeoDataFrame(df, geometry=geopandas.points_from_xy(df.x, df.y))\n",
    "zone = Polygon(polygon_coords)\n",
    "gdf.within(zone)"
   ]
  },
  {
   "cell_type": "markdown",
   "metadata": {},
   "source": [
    "## Rustgeos"
   ]
  },
  {
   "cell_type": "code",
   "execution_count": null,
   "metadata": {},
   "outputs": [],
   "source": [
    "import rustgeos\n",
    "result_rust = rustgeos.contains(polygon_coords, df.x.values, df.y.values)"
   ]
  },
  {
   "cell_type": "code",
   "execution_count": null,
   "metadata": {},
   "outputs": [],
   "source": [
    "%%timeit\n",
    "rustgeos.contains(polygon_coords, df.x.values, df.y.values)"
   ]
  },
  {
   "cell_type": "code",
   "execution_count": null,
   "metadata": {},
   "outputs": [],
   "source": [
    "%%memit\n",
    "rustgeos.contains(polygon_coords, df.x.values, df.y.values)"
   ]
  },
  {
   "cell_type": "markdown",
   "metadata": {},
   "source": [
    "## Shapely vectorized"
   ]
  },
  {
   "cell_type": "code",
   "execution_count": null,
   "metadata": {},
   "outputs": [],
   "source": [
    "from shapely.geometry import Polygon, LineString\n",
    "from shapely.prepared import prep\n",
    "from shapely.vectorized import contains"
   ]
  },
  {
   "cell_type": "code",
   "execution_count": null,
   "metadata": {},
   "outputs": [],
   "source": [
    "%%timeit\n",
    "zone = Polygon(polygon_coords)\n",
    "contains(prep(zone), df.x.values, df.y.values)"
   ]
  },
  {
   "cell_type": "code",
   "execution_count": null,
   "metadata": {},
   "outputs": [],
   "source": [
    "result_shapely = contains(prep(zone), df.x.values, df.y.values)"
   ]
  },
  {
   "cell_type": "code",
   "execution_count": null,
   "metadata": {},
   "outputs": [],
   "source": [
    "%%memit\n",
    "zone = Polygon(polygon_coords)\n",
    "contains(prep(zone), df.x.values, df.y.values)"
   ]
  },
  {
   "cell_type": "markdown",
   "metadata": {},
   "source": [
    "## PyGeos"
   ]
  },
  {
   "cell_type": "code",
   "execution_count": null,
   "metadata": {},
   "outputs": [],
   "source": [
    "from pygeos.predicates import contains\n",
    "from pygeos.creation import box, points\n",
    "from pygeos.creation import Geometry"
   ]
  },
  {
   "cell_type": "code",
   "execution_count": null,
   "metadata": {},
   "outputs": [],
   "source": [
    "%%timeit\n",
    "\n",
    "geoms = points(df.x.values, df.y.values)\n",
    "\n",
    "xy_with_space = [' '.join([str(x) for x in a]) for a in polygon_coords]\n",
    "xy_closed = xy_with_space + xy_with_space[:1]\n",
    "coords_string = ', '.join(xy_closed).replace('[', '(').replace(']', ')')\n",
    "poly = Geometry(f\"POLYGON(({coords_string}))\")\n",
    "\n",
    "contains(poly, geoms)"
   ]
  },
  {
   "cell_type": "code",
   "execution_count": null,
   "metadata": {},
   "outputs": [],
   "source": [
    "result_pygeos = contains(poly, geoms)"
   ]
  },
  {
   "cell_type": "code",
   "execution_count": null,
   "metadata": {},
   "outputs": [],
   "source": [
    "%%memit\n",
    "\n",
    "geoms = points(df.x.values, df.y.values)\n",
    "\n",
    "xy_with_space = [' '.join([str(x) for x in a]) for a in polygon_coords]\n",
    "xy_closed = xy_with_space + xy_with_space[:1]\n",
    "coords_string = ', '.join(xy_closed).replace('[', '(').replace(']', ')')\n",
    "poly = Geometry(f\"POLYGON(({coords_string}))\")\n",
    "\n",
    "contains(poly, geoms)"
   ]
  },
  {
   "cell_type": "markdown",
   "metadata": {},
   "source": [
    "## Just to be sure"
   ]
  },
  {
   "cell_type": "code",
   "execution_count": null,
   "metadata": {},
   "outputs": [],
   "source": [
    "np.testing.assert_equal(result_rust, result_shapely)\n",
    "np.testing.assert_equal(result_rust, result_pygeos)"
   ]
  },
  {
   "cell_type": "markdown",
   "metadata": {},
   "source": [
    "## Performance comparison"
   ]
  },
  {
   "cell_type": "code",
   "execution_count": null,
   "metadata": {},
   "outputs": [],
   "source": [
    "def annotate_bars(ax):\n",
    "    for i in ax.patches:\n",
    "        ax.text(i._x0, i._height*1.01, \n",
    "                str(int(i._height)), fontsize=10)\n",
    "    return ax\n",
    "\n",
    "def beautify_ax(ax):\n",
    "    \"\"\" Simple function to format the axes \"\"\"\n",
    "    ax.xaxis.set_ticks_position('bottom')\n",
    "    ax.yaxis.set_ticks_position('left')\n",
    "    ax.spines['left'].set_position(('data', -.5))\n",
    "    ax.spines['top'].set_visible(False)\n",
    "    ax.spines['right'].set_visible(False)\n",
    "    return ax\n",
    "\n",
    "fig, axes = plt.subplots(1, 2, figsize=(15,5))\n",
    "\n",
    "mem_stats = pd.DataFrame({'1e6 coordinates': [510, 340, 164, 162],\n",
    "                          '1e7 coordinates': [3882, 2412, 654, 660]}, \n",
    "                         index=['GeoPandas', 'PyGEOS', 'Shapely Vectorized', 'rustgeos'])\n",
    "\n",
    "\n",
    "cpu_stats = pd.DataFrame({'1e6 coordinates': [446, 260, 109, 37],\n",
    "                          '1e7 coordinates': [4830, 2460, 1110, 382]}, \n",
    "                         index=['GeoPandas', 'PyGEOS', 'Shapely Vectorized', 'rustgeos'])\n",
    "\n",
    "cpu_stats.plot.bar(ax=axes[0])\n",
    "axes[0].set_title(\"Speed\")\n",
    "axes[0].set_ylabel('execution time (ms)')\n",
    "annotate_bars(axes[0])\n",
    "beautify_ax(axes[0])\n",
    "\n",
    "mem_stats.plot.bar(ax=axes[1])\n",
    "axes[1].set_title(\"Memory usage\")\n",
    "axes[1].set_ylabel('peak memory (MiB)')\n",
    "annotate_bars(axes[1])\n",
    "beautify_ax(axes[1])\n",
    "\n",
    "fig.suptitle(\"'Contain' operation on polygon, with x/y coordinates (lower is better)\");"
   ]
  }
 ],
 "metadata": {
  "kernelspec": {
   "display_name": "Python 3",
   "language": "python",
   "name": "python3"
  },
  "language_info": {
   "codemirror_mode": {
    "name": "ipython",
    "version": 3
   },
   "file_extension": ".py",
   "mimetype": "text/x-python",
   "name": "python",
   "nbconvert_exporter": "python",
   "pygments_lexer": "ipython3",
   "version": "3.7.5"
  }
 },
 "nbformat": 4,
 "nbformat_minor": 4
}
